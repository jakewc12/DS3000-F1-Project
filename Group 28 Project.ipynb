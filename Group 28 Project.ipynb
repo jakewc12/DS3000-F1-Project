{
 "cells": [
  {
   "cell_type": "markdown",
   "metadata": {},
   "source": [
    "# DS 3000 - Group 28 Project\n",
    "\n",
    "**Student Name**: Alexander McMillan, Audrey Romanik, Matthew Chang, Jacob Wu-Chen\n",
    "\n",
    "**Date**: [TODO: Enter the date]\n",
    "\n",
    "\n",
    "### Submission Instructions\n",
    "Submit this `ipynb` file to canvas.\n",
    "\n",
    "The `ipynb` format stores outputs from the last time you ran the notebook.  (When you open a notebook it has the figures and outputs of the last time you ran it too).  To ensure that your submitted `ipynb` file represents your latest code, make sure to give a fresh run `Kernel > Restart & Run All` just before uploading the `ipynb` file to Canvas.\n",
    "\n",
    "### Academic Integrity\n",
    "\n",
    "**Writing your homework is an individual effort.**  You may discuss general python problems with other students but under no circumstances should you observe another student's code which was written for this assignment, from this year or past years.  Pop into office hours or DM us in MS Teams if you have a specific question about your work or if you would like another pair of eyes or talk through your code.\n",
    "\n",
    "Don't forget to cite websites which helped you solve a problem in a unique way.  You can do this in markdown near the code or with a simple one-line comment. You do not need to cite the official python documentation.\n",
    "\n",
    "**Documentation / style counts for credit**  Please refer to the Pep-8 style, to improve the readability and consistency of your Python code. For more information, read the following article [How to Write Beautiful Python Code With PEP 8](https://realpython.com/python-pep8/) or ask your TA's for tips.\n",
    "\n",
    "**NOTE:<span style='color:red'> Write python expressions to answer ALL questions below and ensure that you use the `print()` function to display the output.</span>** Each question should be answered in a new code cell. For example, your solution for question 1.1 should be in a different code cell from your solution for question 1.2."
   ]
  },
  {
   "cell_type": "markdown",
   "metadata": {},
   "source": [
    "## Part 1\n",
    "Data Acquisition\n",
    "(Using Ciruits.csv, Drivers.csv, and Races.csv)"
   ]
  },
  {
   "cell_type": "code",
   "execution_count": 40,
   "metadata": {},
   "outputs": [],
   "source": [
    "#Write your python code to answer question 1. You can add new cells below as needed.\n",
    "\n",
    "# Run latest version of Python\n",
    "import pandas as pd\n",
    "ciruits = pd.read_csv('circuits.csv')\n",
    "races = pd.read_csv('races.csv')\n",
    "drivers = pd.read_csv('drivers.csv')\n",
    "\n",
    "\n"
   ]
  },
  {
   "cell_type": "markdown",
   "metadata": {},
   "source": [
    "## Part 2:\n",
    "Check for null or invalid values and fix if necessary"
   ]
  },
  {
   "cell_type": "code",
   "execution_count": 41,
   "metadata": {},
   "outputs": [
    {
     "name": "stdout",
     "output_type": "stream",
     "text": [
      "Null values: False\n",
      "circuitId     77\n",
      "circuitRef    77\n",
      "name          77\n",
      "location      77\n",
      "country       77\n",
      "lat           77\n",
      "lng           77\n",
      "alt           77\n",
      "url           77\n",
      "dtype: int64\n",
      "<class 'pandas.core.frame.DataFrame'>\n",
      "RangeIndex: 77 entries, 0 to 76\n",
      "Data columns (total 9 columns):\n",
      " #   Column      Non-Null Count  Dtype  \n",
      "---  ------      --------------  -----  \n",
      " 0   circuitId   77 non-null     int64  \n",
      " 1   circuitRef  77 non-null     object \n",
      " 2   name        77 non-null     object \n",
      " 3   location    77 non-null     object \n",
      " 4   country     77 non-null     object \n",
      " 5   lat         77 non-null     float64\n",
      " 6   lng         77 non-null     float64\n",
      " 7   alt         77 non-null     object \n",
      " 8   url         77 non-null     object \n",
      "dtypes: float64(2), int64(1), object(6)\n",
      "memory usage: 5.5+ KB\n",
      "None\n",
      "Null values: False\n",
      "raceId         1101\n",
      "year           1101\n",
      "round          1101\n",
      "circuitId      1101\n",
      "name           1101\n",
      "date           1101\n",
      "time           1101\n",
      "url            1101\n",
      "fp1_date       1101\n",
      "fp1_time       1101\n",
      "fp2_date       1101\n",
      "fp2_time       1101\n",
      "fp3_date       1101\n",
      "fp3_time       1101\n",
      "quali_date     1101\n",
      "quali_time     1101\n",
      "sprint_date    1101\n",
      "sprint_time    1101\n",
      "dtype: int64\n",
      "<class 'pandas.core.frame.DataFrame'>\n",
      "RangeIndex: 1101 entries, 0 to 1100\n",
      "Data columns (total 18 columns):\n",
      " #   Column       Non-Null Count  Dtype \n",
      "---  ------       --------------  ----- \n",
      " 0   raceId       1101 non-null   int64 \n",
      " 1   year         1101 non-null   int64 \n",
      " 2   round        1101 non-null   int64 \n",
      " 3   circuitId    1101 non-null   int64 \n",
      " 4   name         1101 non-null   object\n",
      " 5   date         1101 non-null   object\n",
      " 6   time         1101 non-null   object\n",
      " 7   url          1101 non-null   object\n",
      " 8   fp1_date     1101 non-null   object\n",
      " 9   fp1_time     1101 non-null   object\n",
      " 10  fp2_date     1101 non-null   object\n",
      " 11  fp2_time     1101 non-null   object\n",
      " 12  fp3_date     1101 non-null   object\n",
      " 13  fp3_time     1101 non-null   object\n",
      " 14  quali_date   1101 non-null   object\n",
      " 15  quali_time   1101 non-null   object\n",
      " 16  sprint_date  1101 non-null   object\n",
      " 17  sprint_time  1101 non-null   object\n",
      "dtypes: int64(4), object(14)\n",
      "memory usage: 155.0+ KB\n",
      "None\n",
      "Null values: False\n",
      "driverId       857\n",
      "driverRef      857\n",
      "number         857\n",
      "code           857\n",
      "forename       857\n",
      "surname        857\n",
      "dob            857\n",
      "nationality    857\n",
      "url            857\n",
      "dtype: int64\n",
      "<class 'pandas.core.frame.DataFrame'>\n",
      "RangeIndex: 857 entries, 0 to 856\n",
      "Data columns (total 9 columns):\n",
      " #   Column       Non-Null Count  Dtype \n",
      "---  ------       --------------  ----- \n",
      " 0   driverId     857 non-null    int64 \n",
      " 1   driverRef    857 non-null    object\n",
      " 2   number       857 non-null    object\n",
      " 3   code         857 non-null    object\n",
      " 4   forename     857 non-null    object\n",
      " 5   surname      857 non-null    object\n",
      " 6   dob          857 non-null    object\n",
      " 7   nationality  857 non-null    object\n",
      " 8   url          857 non-null    object\n",
      "dtypes: int64(1), object(8)\n",
      "memory usage: 60.4+ KB\n",
      "None\n"
     ]
    }
   ],
   "source": [
    "#Check the info of ciruits\n",
    "print('Null values: ' + str(ciruits.isnull().values.any()))\n",
    "print(ciruits.count())\n",
    "print(ciruits.info())\n",
    "# This shows that there are no null values in circuits\n",
    "\n",
    "#Check the info of ciruits\n",
    "print('Null values: ' + str(races.isnull().values.any()))\n",
    "\n",
    "print(races.count())\n",
    "print(races.info())\n",
    "# This shows that there are no null values in circuits\n",
    "\n",
    "#Check the info of drivers\n",
    "print('Null values: ' + str(drivers.isnull().values.any()))\n",
    "print(drivers.count())\n",
    "print(drivers.info())\n",
    "# This shows that there are no null values in circuits"
   ]
  },
  {
   "cell_type": "markdown",
   "metadata": {},
   "source": [
    "## Part 3:\n",
    "Check the data types of each data frame and fix if necessary"
   ]
  },
  {
   "cell_type": "code",
   "execution_count": 42,
   "metadata": {},
   "outputs": [
    {
     "name": "stdout",
     "output_type": "stream",
     "text": [
      "Ciruits Data Types:\n",
      "circuitId       int64\n",
      "circuitRef     object\n",
      "name           object\n",
      "location       object\n",
      "country        object\n",
      "lat           float64\n",
      "lng           float64\n",
      "alt            object\n",
      "url            object\n",
      "dtype: object\n",
      "Races Data Types:\n",
      "raceId          int64\n",
      "year            int64\n",
      "round           int64\n",
      "circuitId       int64\n",
      "name           object\n",
      "date           object\n",
      "time           object\n",
      "url            object\n",
      "fp1_date       object\n",
      "fp1_time       object\n",
      "fp2_date       object\n",
      "fp2_time       object\n",
      "fp3_date       object\n",
      "fp3_time       object\n",
      "quali_date     object\n",
      "quali_time     object\n",
      "sprint_date    object\n",
      "sprint_time    object\n",
      "dtype: object\n",
      "Drivers Data Types:\n",
      "driverId        int64\n",
      "driverRef      object\n",
      "number         object\n",
      "code           object\n",
      "forename       object\n",
      "surname        object\n",
      "dob            object\n",
      "nationality    object\n",
      "url            object\n",
      "dtype: object\n"
     ]
    }
   ],
   "source": [
    "print('Ciruits Data Types:')\n",
    "print((ciruits.dtypes))\n",
    "\n",
    "print('Races Data Types:')\n",
    "print((races.dtypes))\n",
    "\n",
    "print('Drivers Data Types:')\n",
    "print((drivers.dtypes))\n",
    "\n",
    "# All data types appear to be fine so no fixing necessary??(REMEMBER TO DELETE THIS)"
   ]
  },
  {
   "cell_type": "markdown",
   "metadata": {},
   "source": [
    "## Part 2:\n",
    "Data Preparation"
   ]
  },
  {
   "cell_type": "code",
   "execution_count": 43,
   "metadata": {},
   "outputs": [],
   "source": [
    "#Write your python code to answer question 2. You can add new cells below as needed."
   ]
  },
  {
   "cell_type": "markdown",
   "metadata": {},
   "source": [
    "## Helpful resources \n",
    "Don't forget to cite websites which helped you solve a problem in a unique way.  You can do this in markdown near the code or with a simple one-line comment inside the code cell, or you can list them below. \n",
    "\n",
    "You do not need to cite the official python documentation.\n"
   ]
  }
 ],
 "metadata": {
  "kernelspec": {
   "display_name": "Python 3",
   "language": "python",
   "name": "python3"
  },
  "language_info": {
   "codemirror_mode": {
    "name": "ipython",
    "version": 3
   },
   "file_extension": ".py",
   "mimetype": "text/x-python",
   "name": "python",
   "nbconvert_exporter": "python",
   "pygments_lexer": "ipython3",
   "version": "3.11.7"
  }
 },
 "nbformat": 4,
 "nbformat_minor": 4
}
